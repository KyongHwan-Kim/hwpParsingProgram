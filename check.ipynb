{
 "cells": [
  {
   "cell_type": "code",
   "execution_count": 1,
   "metadata": {},
   "outputs": [
    {
     "name": "stdout",
     "output_type": "stream",
     "text": [
      "병역지정업체명\u0002부서\u0002생년월일\u0002성명\u0002시작일자\u0002종료일자\u0002월요일시작\u0002월요일종료\u0002화요일시작\u0002화요일종료\u0002화요일시간\u0002수요일시작\u0002수요일종료\u0002수요일시간\u0002목요일시작\u0002목요일종료\u0002목요일시간\u0002금요일시작\u0002금요일종료\u0002금요일시간\u0002공동근무시작시간\u0002공동근무종료시간\u0002공동근무종합시간\u0002신청일자\u0002확인서명\n"
     ]
    }
   ],
   "source": [
    "import os\n",
    "import win32com.client as win32\n",
    "\n",
    "\n",
    "BASE_PATH = os.getcwd()\n",
    "hwp = win32.gencache.EnsureDispatch(\"HWPFrame.HwpObject\")\n",
    "\n",
    "hwp.RegisterModule(\"FilePathCheckDLL\", \"AutomationModule\")\n",
    "\n",
    "hwp.Open(BASE_PATH + \"/유연근무제 신청(변경)서.hwp\")\n",
    "hwp.XHwpWindows.Item(0).Visible = True\n",
    "print(hwp.GetFieldList())\n",
    "\n",
    "# hwp.Run(\"SelectAll\")  # Ctrl-A (전체선택)\n",
    "# hwp.Run(\"Copy\")  # Ctrl-C (복사)\n",
    "# hwp.MovePos(3)  # 문서 끝으로 이동\n",
    "\n",
    "# # 8. 내용 붙여넣기\n",
    "# for i in range(3):\n",
    "#     hwp.Run(\"Paste\")  # Ctrl-V (붙여넣기)\n",
    "#     hwp.MovePos(3)  # 문서 끝으로 이동"
   ]
  }
 ],
 "metadata": {
  "kernelspec": {
   "display_name": "Python 3.9.7 ('base')",
   "language": "python",
   "name": "python3"
  },
  "language_info": {
   "codemirror_mode": {
    "name": "ipython",
    "version": 3
   },
   "file_extension": ".py",
   "mimetype": "text/x-python",
   "name": "python",
   "nbconvert_exporter": "python",
   "pygments_lexer": "ipython3",
   "version": "3.9.7"
  },
  "orig_nbformat": 4,
  "vscode": {
   "interpreter": {
    "hash": "ec78f9a21e5546ce7d39b324f8c1e648342b47af3263a3dd3e858ba22435fb14"
   }
  }
 },
 "nbformat": 4,
 "nbformat_minor": 2
}
