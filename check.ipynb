{
 "cells": [
  {
   "cell_type": "code",
   "execution_count": 1,
   "metadata": {},
   "outputs": [
    {
     "name": "stdout",
     "output_type": "stream",
     "text": [
      "\n",
      " \n"
     ]
    }
   ],
   "source": [
    "import os\n",
    "import win32com.client as win32\n",
    "\n",
    "\n",
    "BASE_PATH = os.getcwd()\n",
    "hwp = win32.gencache.EnsureDispatch(\"HWPFrame.HwpObject\")\n",
    "\n",
    "hwp.RegisterModule(\"FilePathCheckDLL\", \"FilePathCheckerModule\")\n",
    "\n",
    "hwp.Open(BASE_PATH + \"/유연근무제 신청(변경)서.hwp\")\n",
    "hwp.XHwpWindows.Item(0).Visible = True\n",
    "print(hwp.GetFieldList())\n",
    "\n",
    "# hwp.Run(\"SelectAll\")  # Ctrl-A (전체선택)\n",
    "# hwp.Run(\"Copy\")  # Ctrl-C (복사)\n",
    "# hwp.MovePos(3)  # 문서 끝으로 이동\n",
    "\n",
    "# # 8. 내용 붙여넣기\n",
    "# for i in range(3):\n",
    "#     hwp.Run(\"Paste\")  # Ctrl-V (붙여넣기)\n",
    "#     hwp.MovePos(3)  # 문서 끝으로 이동"
   ]
  }
 ],
 "metadata": {
  "kernelspec": {
   "display_name": "Python 3.9.7 ('base')",
   "language": "python",
   "name": "python3"
  },
  "language_info": {
   "codemirror_mode": {
    "name": "ipython",
    "version": 3
   },
   "file_extension": ".py",
   "mimetype": "text/x-python",
   "name": "python",
   "nbconvert_exporter": "python",
   "pygments_lexer": "ipython3",
   "version": "3.9.7"
  },
  "orig_nbformat": 4,
  "vscode": {
   "interpreter": {
    "hash": "ec78f9a21e5546ce7d39b324f8c1e648342b47af3263a3dd3e858ba22435fb14"
   }
  }
 },
 "nbformat": 4,
 "nbformat_minor": 2
}
